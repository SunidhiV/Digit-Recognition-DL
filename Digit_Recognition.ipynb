{
 "cells": [
  {
   "cell_type": "markdown",
   "id": "6005173e",
   "metadata": {},
   "source": [
    "This script builds a deep learning model to predict handwritten digits from 'optdigits.tes' images. Each row in the dataset represents an 8x8 reshaped digit image with labels in the last column.\n"
   ]
  },
  {
   "cell_type": "code",
   "execution_count": 1,
   "id": "583947a8",
   "metadata": {},
   "outputs": [],
   "source": [
    "#importing libraries\n",
    "import pandas as pd\n",
    "import numpy as np\n",
    "from sklearn.model_selection import train_test_split\n",
    "from tensorflow import keras\n",
    "from tensorflow.keras import layers\n",
    "from sklearn.model_selection import train_test_split\n",
    "from sklearn.preprocessing import StandardScaler\n",
    "import matplotlib.pyplot as plt\n",
    "from keras.utils import to_categorical"
   ]
  },
  {
   "cell_type": "code",
   "execution_count": 2,
   "id": "24f0ffcb",
   "metadata": {},
   "outputs": [],
   "source": [
    "import warnings\n",
    "warnings.filterwarnings(\"ignore\")"
   ]
  },
  {
   "cell_type": "code",
   "execution_count": 3,
   "id": "f7638af7",
   "metadata": {},
   "outputs": [],
   "source": [
    "# Importing data\n",
    "X_train = pd.read_csv('optdigits.tra',header=None)\n",
    "X_test = pd.read_csv('optdigits.tes',header=None)\n",
    "y_train = X_train[64]\n",
    "y_test = X_test[64]\n",
    "X_train = X_train.drop(X_train.columns[64],axis=1)\n",
    "X_test = X_test.drop(X_test.columns[64],axis=1)"
   ]
  },
  {
   "cell_type": "code",
   "execution_count": 4,
   "id": "4aa190b4",
   "metadata": {},
   "outputs": [],
   "source": [
    "y_train = to_categorical(y_train)\n",
    "y_test = to_categorical(y_test)\n",
    "\n",
    "X_train = X_train.astype('float32') / 255\n",
    "X_test = X_test.astype('float32') / 255"
   ]
  },
  {
   "cell_type": "code",
   "execution_count": 5,
   "id": "920d4f78",
   "metadata": {},
   "outputs": [],
   "source": [
    "# Build a deep learning model with two hidden layers (24 nodes each\n",
    "#using ReLU activation, and an output layer with 10 nodes and softmax activation\n",
    "\n",
    "network1 = keras.Sequential([\n",
    "    layers.Dense(24, activation='relu'),\n",
    "    layers.Dense(24, activation='relu'),\n",
    "    layers.Dense(10, activation='softmax')\n",
    "])\n",
    "\n",
    "# Using categorical_crossentropy for multi-class classification\n",
    "network1.compile(optimizer='rmsprop',\n",
    "                 loss='categorical_crossentropy',\n",
    "                 metrics=['accuracy'])\n",
    "\n",
    "history = network1.fit(X_train, y_train, epochs=1100, batch_size=48,\n",
    "                       validation_split=0.20, verbose=0)"
   ]
  },
  {
   "cell_type": "code",
   "execution_count": 6,
   "id": "5c6339c5",
   "metadata": {},
   "outputs": [
    {
     "data": {
      "image/png": "[encoded data removed]",
      "text/plain": [
       "<Figure size 864x432 with 1 Axes>"
      ]
     },
     "metadata": {
      "needs_background": "light"
     },
     "output_type": "display_data"
    }
   ],
   "source": [
    "# Plot the training and validation loss curves to identify overfitting epochs.\n",
    "\n",
    "train_loss = history.history['loss']\n",
    "val_loss = history.history['val_loss']\n",
    "epochs = range(1, len(train_loss) + 1)\n",
    "\n",
    "plt.figure(figsize=(12, 6))\n",
    "plt.plot(epochs, train_loss, 'g', label='Training loss')\n",
    "plt.plot(epochs, val_loss, 'r', label='Validation loss')\n",
    "plt.title('Training and Validation Loss')\n",
    "plt.xlabel('Epochs')\n",
    "plt.ylabel('Loss')\n",
    "plt.legend()\n",
    "plt.show()\n",
    "\n"
   ]
  },
  {
   "cell_type": "code",
   "execution_count": 7,
   "id": "45ed2df5",
   "metadata": {},
   "outputs": [
    {
     "name": "stdout",
     "output_type": "stream",
     "text": [
      "The model starts overfitting at 244 epochs\n"
     ]
    }
   ],
   "source": [
    "#Retrain the model with this number of epochs.\n",
    "\n",
    "dfnew = pd.DataFrame(history.history)\n",
    "dfnew.index = range(1,len(val_loss)+1)\n",
    "# dfnew\n",
    "dfnew[dfnew.val_loss==dfnew.val_loss.min()]\n",
    "optimal_epochs = dfnew['val_loss'].idxmin()\n",
    "print(\"The model starts overfitting at\",optimal_epochs,\"epochs\")"
   ]
  },
  {
   "cell_type": "code",
   "execution_count": 8,
   "id": "0d44cd6b",
   "metadata": {},
   "outputs": [
    {
     "name": "stdout",
     "output_type": "stream",
     "text": [
      "57/57 [==============================] - 0s 2ms/step - loss: 0.1824 - accuracy: 0.9494\n",
      "Test Accuracy Rate is:  94.93600726127625\n"
     ]
    }
   ],
   "source": [
    "#Calculating the test accuracy rate.\n",
    "\n",
    "network2 = keras.Sequential([\n",
    "    layers.Dense(24, activation='relu'),\n",
    "    layers.Dense(24, activation='relu'),\n",
    "    layers.Dense(10, activation='softmax')\n",
    "])\n",
    "\n",
    "# Compiling the model\n",
    "# Using categorical_crossentropy for multi-class classification\n",
    "network2.compile(optimizer='rmsprop',\n",
    "                 loss='categorical_crossentropy',\n",
    "                 metrics=['accuracy'])\n",
    "\n",
    "history = network2.fit(X_train, y_train, epochs=optimal_epochs,\n",
    "                       batch_size=48,verbose=0)\n",
    "\n",
    "test_loss, test_accuracy = network2.evaluate(X_test, y_test)\n",
    "\n",
    "print(\"Test Accuracy Rate is: \",(test_accuracy)*100)"
   ]
  },
  {
   "cell_type": "code",
   "execution_count": 10,
   "id": "1466e6e9",
   "metadata": {},
   "outputs": [
    {
     "name": "stdout",
     "output_type": "stream",
     "text": [
      "57/57 [==============================] - 0s 956us/step\n"
     ]
    },
    {
     "data": {
      "text/plain": [
       "(1797, 10)"
      ]
     },
     "execution_count": 10,
     "metadata": {},
     "output_type": "execute_result"
    }
   ],
   "source": [
    "#Predict the test set\n",
    "ypred0 = network2.predict(X_test)\n",
    "ypred0.shape"
   ]
  },
  {
   "cell_type": "code",
   "execution_count": 11,
   "id": "de5d150f",
   "metadata": {},
   "outputs": [
    {
     "name": "stdout",
     "output_type": "stream",
     "text": [
      "Before onehot decoding the predicted digits: \n",
      "[[1. 0. 0. 0. 0. 0. 0. 0. 0. 0.]\n",
      " [0. 1. 0. 0. 0. 0. 0. 0. 0. 0.]\n",
      " [0. 0. 0. 0. 0. 0. 0. 0. 1. 0.]\n",
      " [0. 0. 0. 1. 0. 0. 0. 0. 0. 0.]\n",
      " [0. 0. 0. 0. 1. 0. 0. 0. 0. 0.]]\n",
      "After onehot decoding the predicted digits: \n",
      "[0 1 8 3 4]\n"
     ]
    }
   ],
   "source": [
    "# One-hot decode the predictions\n",
    "ypred = np.round(ypred0, decimals=0)\n",
    "print(\"Before onehot decoding the predicted digits: \")\n",
    "print(ypred[:5])\n",
    "ypred = np.argmax(ypred0, axis=-1)\n",
    "print(\"After onehot decoding the predicted digits: \")\n",
    "print(ypred[:5])"
   ]
  },
  {
   "cell_type": "code",
   "execution_count": 12,
   "id": "b1d48b5e",
   "metadata": {},
   "outputs": [
    {
     "name": "stdout",
     "output_type": "stream",
     "text": [
      "Before onehot decoding the actual test digits digits: \n",
      "[[1. 0. 0. 0. 0. 0. 0. 0. 0. 0.]\n",
      " [0. 1. 0. 0. 0. 0. 0. 0. 0. 0.]\n",
      " [0. 0. 1. 0. 0. 0. 0. 0. 0. 0.]\n",
      " [0. 0. 0. 1. 0. 0. 0. 0. 0. 0.]\n",
      " [0. 0. 0. 0. 1. 0. 0. 0. 0. 0.]]\n",
      "After onehot decoding the actual test digits digits: \n",
      "[0 1 2 3 4]\n"
     ]
    }
   ],
   "source": [
    "# One-hot decode y_test (was encoded in part (a) with to_categorical() )\n",
    "y_test0 = np.round(y_test, decimals=0)\n",
    "print(\"Before onehot decoding the actual test digits digits: \")\n",
    "print(y_test0[:5])\n",
    "y_test = np.argmax(y_test0, axis=-1)\n",
    "print(\"After onehot decoding the actual test digits digits: \")\n",
    "print(y_test[:5])"
   ]
  },
  {
   "cell_type": "code",
   "execution_count": 13,
   "id": "1a7fef73",
   "metadata": {},
   "outputs": [
    {
     "name": "stdout",
     "output_type": "stream",
     "text": [
      "predictions    0    1    2    3    4    5    6    7    8    9  error rate\n",
      "true labels                                                              \n",
      "0            176    0    0    0    0    1    1    0    0    0    0.011236\n",
      "1              0  174    0    0    0    0    1    0    5    2    0.043956\n",
      "2              0    0  170    0    1    0    1    0    5    0    0.039548\n",
      "3              0    0    5  165    0    2    0    0    9    2    0.098361\n",
      "4              0    1    0    0  176    0    0    0    3    1    0.027624\n",
      "5              1    1    1    1    0  177    0    0    0    1    0.027473\n",
      "6              1    1    0    0    1    0  178    0    0    0    0.016575\n",
      "7              0    0    0    0    2   10    0  163    1    3    0.089385\n",
      "8              0    4    0    4    2    2    1    0  156    5    0.103448\n",
      "9              1    1    0    1    0    3    0    0    3  171    0.050000\n",
      "\n",
      "\n",
      "The Error rates for each digit are:\n"
     ]
    },
    {
     "data": {
      "text/plain": [
       "true labels\n",
       "0    0.011236\n",
       "1    0.043956\n",
       "2    0.039548\n",
       "3    0.098361\n",
       "4    0.027624\n",
       "5    0.027473\n",
       "6    0.016575\n",
       "7    0.089385\n",
       "8    0.103448\n",
       "9    0.050000\n",
       "Name: error rate, dtype: float64"
      ]
     },
     "execution_count": 13,
     "metadata": {},
     "output_type": "execute_result"
    }
   ],
   "source": [
    "#finding error rates for each digit using a 10 by 10 cross tab \n",
    "crosstab_df = pd.crosstab(y_test, ypred, rownames=['true labels'],\\\n",
    "                          colnames=['predictions'])\n",
    "df2 = crosstab_df.copy()\n",
    "df2['row sum'] = df2.sum(axis=1).values\n",
    "df2['error rate'] = 1-np.diag(crosstab_df)/np.sum(crosstab_df,axis=1)\n",
    "del df2['row sum']\n",
    "print(df2)\n",
    "print(\"\\n\\nThe Error rates for each digit are:\")\n",
    "df2['error rate']"
   ]
  },
  {
   "cell_type": "code",
   "execution_count": 14,
   "id": "73264386",
   "metadata": {},
   "outputs": [
    {
     "data": {
      "text/html": [
       "<div>\n",
       "<style scoped>\n",
       "    .dataframe tbody tr th:only-of-type {\n",
       "        vertical-align: middle;\n",
       "    }\n",
       "\n",
       "    .dataframe tbody tr th {\n",
       "        vertical-align: top;\n",
       "    }\n",
       "\n",
       "    .dataframe thead th {\n",
       "        text-align: right;\n",
       "    }\n",
       "</style>\n",
       "<table border=\"1\" class=\"dataframe\">\n",
       "  <thead>\n",
       "    <tr style=\"text-align: right;\">\n",
       "      <th>predictions</th>\n",
       "      <th>0</th>\n",
       "      <th>1</th>\n",
       "      <th>2</th>\n",
       "      <th>3</th>\n",
       "      <th>4</th>\n",
       "      <th>5</th>\n",
       "      <th>6</th>\n",
       "      <th>7</th>\n",
       "      <th>8</th>\n",
       "      <th>9</th>\n",
       "      <th>error rate</th>\n",
       "    </tr>\n",
       "    <tr>\n",
       "      <th>true labels</th>\n",
       "      <th></th>\n",
       "      <th></th>\n",
       "      <th></th>\n",
       "      <th></th>\n",
       "      <th></th>\n",
       "      <th></th>\n",
       "      <th></th>\n",
       "      <th></th>\n",
       "      <th></th>\n",
       "      <th></th>\n",
       "      <th></th>\n",
       "    </tr>\n",
       "  </thead>\n",
       "  <tbody>\n",
       "    <tr>\n",
       "      <th>8</th>\n",
       "      <td>0</td>\n",
       "      <td>4</td>\n",
       "      <td>0</td>\n",
       "      <td>4</td>\n",
       "      <td>2</td>\n",
       "      <td>2</td>\n",
       "      <td>1</td>\n",
       "      <td>0</td>\n",
       "      <td>156</td>\n",
       "      <td>5</td>\n",
       "      <td>0.103448</td>\n",
       "    </tr>\n",
       "  </tbody>\n",
       "</table>\n",
       "</div>"
      ],
      "text/plain": [
       "predictions  0  1  2  3  4  5  6  7    8  9  error rate\n",
       "true labels                                            \n",
       "8            0  4  0  4  2  2  1  0  156  5    0.103448"
      ]
     },
     "execution_count": 14,
     "metadata": {},
     "output_type": "execute_result"
    }
   ],
   "source": [
    "# digit with largest error rate\n",
    "df2[ df2['error rate']==df2['error rate'].max()]"
   ]
  },
  {
   "cell_type": "code",
   "execution_count": 15,
   "id": "5ce0d9d1",
   "metadata": {},
   "outputs": [
    {
     "name": "stdout",
     "output_type": "stream",
     "text": [
      "Most Difficult Digit to Predict is 8 with an error rate of 0.10344827586206895\n"
     ]
    }
   ],
   "source": [
    "most_difficult_digit = df2['error rate'].idxmax()\n",
    "highest_error_rate = df2['error rate'].max()\n",
    "print(\"Most Difficult Digit to Predict is\", most_difficult_digit,\\\n",
    "      \"with an error rate of\", highest_error_rate)"
   ]
  }
 ],
 "metadata": {
  "kernelspec": {
   "display_name": "Python 3 (ipykernel)",
   "language": "python",
   "name": "python3"
  },
  "language_info": {
   "codemirror_mode": {
    "name": "ipython",
    "version": 3
   },
   "file_extension": ".py",
   "mimetype": "text/x-python",
   "name": "python",
   "nbconvert_exporter": "python",
   "pygments_lexer": "ipython3",
   "version": "3.9.12"
  }
 },
 "nbformat": 4,
 "nbformat_minor": 5
}
